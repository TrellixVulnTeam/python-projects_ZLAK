{
 "cells": [
  {
   "cell_type": "code",
   "execution_count": 1,
   "metadata": {
    "collapsed": true
   },
   "outputs": [],
   "source": [
    "import requests\n",
    "from bs4 import BeautifulSoup\n",
    "\n",
    "r=requests.get(\"http://www.century21.com/real-estate/boston-ma/LCMABOSTON/\")\n",
    "c=r.content\n",
    "\n",
    "soup=BeautifulSoup(c, \"html.parser\")\n",
    "\n",
    "all_cards=soup.find_all(\"div\", {\"class\": \"property-card\"})\n"
   ]
  },
  {
   "cell_type": "code",
   "execution_count": 59,
   "metadata": {
    "scrolled": false
   },
   "outputs": [
    {
     "ename": "AttributeError",
     "evalue": "'dict' object has no attribute 'append'",
     "output_type": "error",
     "traceback": [
      "\u001b[1;31m---------------------------------------------------------------------------\u001b[0m",
      "\u001b[1;31mAttributeError\u001b[0m                            Traceback (most recent call last)",
      "\u001b[1;32m<ipython-input-59-1902dde881c2>\u001b[0m in \u001b[0;36m<module>\u001b[1;34m()\u001b[0m\n\u001b[0;32m     28\u001b[0m         \u001b[1;32mpass\u001b[0m\u001b[1;33m\u001b[0m\u001b[0m\n\u001b[0;32m     29\u001b[0m \u001b[1;33m\u001b[0m\u001b[0m\n\u001b[1;32m---> 30\u001b[1;33m     \u001b[0ml\u001b[0m\u001b[1;33m.\u001b[0m\u001b[0mappend\u001b[0m\u001b[1;33m(\u001b[0m\u001b[0md\u001b[0m\u001b[1;33m)\u001b[0m\u001b[1;33m\u001b[0m\u001b[0m\n\u001b[0m\u001b[0;32m     31\u001b[0m \u001b[1;33m\u001b[0m\u001b[0m\n\u001b[0;32m     32\u001b[0m \u001b[0mprint\u001b[0m\u001b[1;33m(\u001b[0m\u001b[0ml\u001b[0m\u001b[1;33m)\u001b[0m\u001b[1;33m\u001b[0m\u001b[0m\n",
      "\u001b[1;31mAttributeError\u001b[0m: 'dict' object has no attribute 'append'"
     ]
    }
   ],
   "source": [
    "l={}\n",
    "\n",
    "for item in all_cards:\n",
    "    d={}\n",
    "    \n",
    "    price = item.find(\"a\", {\"class\": \"listing-price\"}).text.replace(\"\\n\",\"\").replace(\" \",\"\")\n",
    "    d[\"Price\"]=price\n",
    "    \n",
    "    \n",
    "    address = item.find_all(\"div\", {\"class\": \"property-address\"})[0].text.strip()\n",
    "    d[\"Address\"]=address\n",
    "    \n",
    "    city = item.find_all(\"div\", {\"class\": \"property-city\"})[0].text.strip()\n",
    "    d[\"City\"]=city\n",
    "    \n",
    "    #Error handling in case there are no beds or baths\n",
    "    try:\n",
    "        bed = item.find(\"div\", {\"class\": \"property-beds\"}).text.strip()\n",
    "        d[\"Bed\"]=bed\n",
    "    except:\n",
    "        d[\"Bed\"]=None\n",
    "        pass\n",
    "    try:\n",
    "        bath = item.find(\"div\", {\"class\": \"property-baths\"}).text.strip()\n",
    "        d[\"Bath\"]=bath\n",
    "    except:\n",
    "        d[\"Bath\"]=None\n",
    "        pass\n",
    "    \n",
    "    l.append(d)\n",
    "    \n",
    "print(l)\n",
    "   "
   ]
  },
  {
   "cell_type": "code",
   "execution_count": null,
   "metadata": {
    "collapsed": true
   },
   "outputs": [],
   "source": []
  }
 ],
 "metadata": {
  "kernelspec": {
   "display_name": "Python 3",
   "language": "python",
   "name": "python3"
  },
  "language_info": {
   "codemirror_mode": {
    "name": "ipython",
    "version": 3
   },
   "file_extension": ".py",
   "mimetype": "text/x-python",
   "name": "python",
   "nbconvert_exporter": "python",
   "pygments_lexer": "ipython3",
   "version": "3.6.1"
  }
 },
 "nbformat": 4,
 "nbformat_minor": 2
}
